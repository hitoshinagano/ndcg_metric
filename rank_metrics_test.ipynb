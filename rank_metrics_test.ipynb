{
 "cells": [
  {
   "cell_type": "markdown",
   "metadata": {},
   "source": [
    "### uma implementação em python\n",
    "ver https://www.kaggle.com/wendykan/ndcg-example"
   ]
  },
  {
   "cell_type": "code",
   "execution_count": 1,
   "metadata": {},
   "outputs": [],
   "source": [
    "# criar rank_metrics.py com as funções do link \n",
    "from rank_metrics import dcg_at_k, ndcg_at_k\n",
    "import numpy as np"
   ]
  },
  {
   "cell_type": "code",
   "execution_count": 2,
   "metadata": {},
   "outputs": [
    {
     "name": "stdout",
     "output_type": "stream",
     "text": [
      " dcg@6: 6.861\n",
      "ndcg@6: 0.961\n"
     ]
    }
   ],
   "source": [
    "r = [3, 2, 3, 0, 1, 2]\n",
    "k = 6\n",
    "print(' dcg@6:', round(dcg_at_k(r, k, 1), 3))\n",
    "print('ndcg@6:', round(ndcg_at_k(r, k, 1), 3))"
   ]
  },
  {
   "cell_type": "markdown",
   "metadata": {},
   "source": [
    "### ndcg do scikit-learn"
   ]
  },
  {
   "cell_type": "code",
   "execution_count": 3,
   "metadata": {},
   "outputs": [],
   "source": [
    "from sklearn.metrics import ndcg_score"
   ]
  },
  {
   "cell_type": "code",
   "execution_count": 4,
   "metadata": {},
   "outputs": [
    {
     "name": "stdout",
     "output_type": "stream",
     "text": [
      "ndcg@6: 0.961\n"
     ]
    }
   ],
   "source": [
    "true = [r]\n",
    "score = [[5, 4, 3, 2, 1, 0]]\n",
    "k = 6\n",
    "print('ndcg@6:', round(ndcg_score(true, score, k = k), 3))"
   ]
  },
  {
   "cell_type": "code",
   "execution_count": null,
   "metadata": {},
   "outputs": [],
   "source": []
  },
  {
   "cell_type": "markdown",
   "metadata": {},
   "source": [
    "_____"
   ]
  },
  {
   "cell_type": "code",
   "execution_count": 5,
   "metadata": {},
   "outputs": [
    {
     "name": "stdout",
     "output_type": "stream",
     "text": [
      "1 : 3.0 1.0\n",
      "2 : 4.262 0.871\n",
      "3 : 5.762 0.978\n",
      "4 : 5.762 0.853\n",
      "5 : 6.149 0.861\n",
      "6 : 6.861 0.961\n",
      "7 : 6.861 0.961\n",
      "8 : 6.861 0.961\n",
      "9 : 6.861 0.961\n",
      "10 : 6.861 0.961\n"
     ]
    }
   ],
   "source": [
    "m = 1\n",
    "for k in range(1, 11):\n",
    "    print(k, ':', round(dcg_at_k(r, k, m), 3), \n",
    "          round(ndcg_at_k(r, k, m), 3))"
   ]
  },
  {
   "cell_type": "code",
   "execution_count": null,
   "metadata": {},
   "outputs": [],
   "source": []
  }
 ],
 "metadata": {
  "kernelspec": {
   "display_name": "Python 3",
   "language": "python",
   "name": "python3"
  },
  "language_info": {
   "codemirror_mode": {
    "name": "ipython",
    "version": 3
   },
   "file_extension": ".py",
   "mimetype": "text/x-python",
   "name": "python",
   "nbconvert_exporter": "python",
   "pygments_lexer": "ipython3",
   "version": "3.7.6"
  }
 },
 "nbformat": 4,
 "nbformat_minor": 4
}
